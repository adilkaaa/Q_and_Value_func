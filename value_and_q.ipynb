{
 "cells": [
  {
   "cell_type": "code",
   "execution_count": 1,
   "id": "16ddc41d",
   "metadata": {},
   "outputs": [],
   "source": [
    "import gym\n",
    "import numpy as np"
   ]
  },
  {
   "cell_type": "markdown",
   "id": "06840440",
   "metadata": {},
   "source": [
    "<h3><b>Value Function and Q Function Example on Frozen Lake</b></h3>"
   ]
  },
  {
   "cell_type": "code",
   "execution_count": 2,
   "id": "0ccfac15",
   "metadata": {},
   "outputs": [
    {
     "name": "stderr",
     "output_type": "stream",
     "text": [
      "/home/labadmin/.local/lib/python3.8/site-packages/gym/core.py:329: DeprecationWarning: \u001b[33mWARN: Initializing wrapper in old step API which returns one bool instead of two. It is recommended to set `new_step_api=True` to use new step API. This will be the default behaviour in future.\u001b[0m\n",
      "  deprecation(\n",
      "/home/labadmin/.local/lib/python3.8/site-packages/gym/wrappers/step_api_compatibility.py:39: DeprecationWarning: \u001b[33mWARN: Initializing environment in old step API which returns one bool instead of two. It is recommended to set `new_step_api=True` to use new step API. This will be the default behaviour in future.\u001b[0m\n",
      "  deprecation(\n"
     ]
    }
   ],
   "source": [
    "env = gym.make(\"FrozenLake-v1\")"
   ]
  },
  {
   "cell_type": "code",
   "execution_count": 3,
   "id": "8b03e56b",
   "metadata": {},
   "outputs": [
    {
     "data": {
      "text/plain": [
       "0"
      ]
     },
     "execution_count": 3,
     "metadata": {},
     "output_type": "execute_result"
    }
   ],
   "source": [
    "env.reset()"
   ]
  },
  {
   "cell_type": "code",
   "execution_count": 6,
   "id": "69516a27",
   "metadata": {},
   "outputs": [
    {
     "data": {
      "text/plain": [
       "(16, 4)"
      ]
     },
     "execution_count": 6,
     "metadata": {},
     "output_type": "execute_result"
    }
   ],
   "source": [
    "states = env.observation_space.n\n",
    "actions = env.action_space.n\n",
    "states, actions"
   ]
  },
  {
   "cell_type": "code",
   "execution_count": 108,
   "id": "c2986ed3",
   "metadata": {},
   "outputs": [],
   "source": [
    "def v_func(env):\n",
    "    gamma = 1\n",
    "    policy = np.ones(states)*2\n",
    "    v_table = np.zeros(states)\n",
    "    policy_adil = np.array([2,2,1,0,1,1,1,1,2,2,1,0,1,2,2,0])\n",
    "#     print(policy_adil)\n",
    "    num_iteration = 100\n",
    "    for i in range(num_iteration):\n",
    "        updated_table = np.copy(v_table)\n",
    "        \n",
    "        if i in (1,99):\n",
    "            print()\n",
    "            print(f'iteration: {i+1}-----------------------------------------------------------------')\n",
    "            print()\n",
    "        for s in range(states):\n",
    "            a = policy[s]\n",
    "            V_value = sum([prob*(r + gamma*updated_table[s_]) for prob,s_,r,_ in env.P[s][a]])\n",
    "            \n",
    "            if i in (1,99): \n",
    "                print(f'state {s+1}, value = {V_value}')\n",
    "                \n",
    "            v_table[s] = V_value\n",
    "        "
   ]
  },
  {
   "cell_type": "code",
   "execution_count": 109,
   "id": "1c364a46",
   "metadata": {},
   "outputs": [
    {
     "name": "stdout",
     "output_type": "stream",
     "text": [
      "\n",
      "iteration: 2-----------------------------------------------------------------\n",
      "\n",
      "state 1, value = 0.0\n",
      "state 2, value = 0.0\n",
      "state 3, value = 0.0\n",
      "state 4, value = 0.0\n",
      "state 5, value = 0.0\n",
      "state 6, value = 0.0\n",
      "state 7, value = 0.0\n",
      "state 8, value = 0.0\n",
      "state 9, value = 0.0\n",
      "state 10, value = 0.0\n",
      "state 11, value = 0.1111111111111111\n",
      "state 12, value = 0.0\n",
      "state 13, value = 0.0\n",
      "state 14, value = 0.1111111111111111\n",
      "state 15, value = 0.4444444444444444\n",
      "state 16, value = 0.0\n",
      "\n",
      "iteration: 100-----------------------------------------------------------------\n",
      "\n",
      "state 1, value = 0.03150183150183147\n",
      "state 2, value = 0.02380952380952379\n",
      "state 3, value = 0.04761904761904759\n",
      "state 4, value = 0.0\n",
      "state 5, value = 0.039194139194139166\n",
      "state 6, value = 0.0\n",
      "state 7, value = 0.09523809523809519\n",
      "state 8, value = 0.0\n",
      "state 9, value = 0.08608058608058604\n",
      "state 10, value = 0.21904761904761896\n",
      "state 11, value = 0.23809523809523803\n",
      "state 12, value = 0.0\n",
      "state 13, value = 0.0\n",
      "state 14, value = 0.4190476190476189\n",
      "state 15, value = 0.6190476190476188\n",
      "state 16, value = 0.0\n"
     ]
    }
   ],
   "source": [
    "v_func(env)"
   ]
  },
  {
   "cell_type": "code",
   "execution_count": 143,
   "id": "e0735dd1",
   "metadata": {},
   "outputs": [],
   "source": [
    "def q_func(env):\n",
    "    gamma = 0.1\n",
    "    policy = np.ones(states)\n",
    "    q_table = np.zeros(states)\n",
    "    num_iteration = 10000\n",
    "    for i in range(num_iteration):\n",
    "        if i in (9999,10000):\n",
    "            print()\n",
    "            print(f\"iteration: {i} -----------------------------------------------------------------------------\")\n",
    "            print()\n",
    "        updated_table = np.copy(q_table)\n",
    "        for s in range(states):\n",
    "            Q_values = [sum([prob*(r+gamma * updated_table[s_]) for prob, s_, r, _ in env.P[s][a]]) for a in range(actions)]\n",
    "            if i in (9999,10000):\n",
    "                print(Q_values)\n",
    "            \n",
    "            q_table[s] = max(Q_values)\n",
    "    "
   ]
  },
  {
   "cell_type": "code",
   "execution_count": 144,
   "id": "ce959de9",
   "metadata": {},
   "outputs": [
    {
     "name": "stdout",
     "output_type": "stream",
     "text": [
      "\n",
      "iteration: 9999 -----------------------------------------------------------------------------\n",
      "\n",
      "[3.4354215299481955e-08, 4.8098192300925905e-08, 4.809819230092591e-08, 1.855379623153655e-08]\n",
      "[1.6950523154839017e-08, 4.4507025226610304e-07, 4.58814229267547e-07, 4.6041750234424455e-07]\n",
      "[1.3303518519360686e-05, 1.28758896465709e-05, 1.3304009375682165e-05, 4.7465233566716866e-07]\n",
      "[4.5930508558902715e-07, 4.5930508558902715e-07, 3.167621279924325e-08, 4.7514319198864874e-07]\n",
      "[9.344300743826067e-07, 9.328268013059091e-07, 9.032824052365198e-07, 3.2750942222784423e-08]\n",
      "[0.0, 0.0, 0.0, 0.0]\n",
      "[0.0003853411287027941, 0.0003848976617236047, 0.0003853411287027941, 4.434669791894055e-07]\n",
      "[0.0, 0.0, 0.0, 0.0]\n",
      "[9.328268013059091e-07, 2.701922629564858e-05, 2.6148694832634847e-05, 2.7050373964794668e-05]\n",
      "[0.00039862875318105804, 0.0007835264149046628, 0.0007826247357725029, 0.00038579934085576455]\n",
      "[0.01154692985170814, 0.011534085147418048, 0.011520812304544652, 3.89622514535819e-05]\n",
      "[0.0, 0.0, 0.0, 0.0]\n",
      "[0.0, 0.0, 0.0, 0.0]\n",
      "[0.00042384462121238697, 0.011905694674303456, 0.011931812221466945, 0.011534085147418048]\n",
      "[0.012290592336027062, 0.3452390280076368, 0.3452261985953115, 0.3341159580691058]\n",
      "[0.0, 0.0, 0.0, 0.0]\n"
     ]
    }
   ],
   "source": [
    "q_func(env)"
   ]
  },
  {
   "cell_type": "code",
   "execution_count": 151,
   "id": "828cde1d",
   "metadata": {},
   "outputs": [],
   "source": [
    "def get_optimal_value_table(env):\n",
    "    gamma = 1\n",
    "    threshold = 1e-20\n",
    "    value_table = np.zeros(states)\n",
    "    num_iterations = 100000\n",
    "    for i in range(num_iterations):\n",
    "        updated_table = np.copy(value_table)\n",
    "        for s in range(states):\n",
    "            Q_optimal_value = [sum([prob *(r + gamma * updated_table[s_]) for prob, s_, r, _ in env.P[s][a]])\n",
    "                              for a in range(actions)]\n",
    "            value_table[s] = max(Q_optimal_value)\n",
    "        if (np.sum(np.fabs(updated_table - value_table))<= threshold):\n",
    "            break\n",
    "    return value_table\n",
    "\n",
    "            "
   ]
  },
  {
   "cell_type": "code",
   "execution_count": 152,
   "id": "b0c1d2c9",
   "metadata": {},
   "outputs": [
    {
     "data": {
      "text/plain": [
       "array([0.82352941, 0.82352941, 0.82352941, 0.82352941, 0.82352941,\n",
       "       0.        , 0.52941176, 0.        , 0.82352941, 0.82352941,\n",
       "       0.76470588, 0.        , 0.        , 0.88235294, 0.94117647,\n",
       "       0.        ])"
      ]
     },
     "execution_count": 152,
     "metadata": {},
     "output_type": "execute_result"
    }
   ],
   "source": [
    "value_table = get_optimal_value_table(env)\n",
    "value_table"
   ]
  },
  {
   "cell_type": "code",
   "execution_count": 153,
   "id": "e4c7286a",
   "metadata": {},
   "outputs": [],
   "source": [
    "def get_optimal_policy(v_table):\n",
    "    gamma = 1\n",
    "    policy = np.zeros(states)\n",
    "    for state in range(states):\n",
    "        Q_values = [sum([prob*(r+ gamma * v_table[s_]) for prob, s_, r, _ in env.P[state][a]]) for a in range(actions)]\n",
    "        policy[state] = np.argmax(np.array(Q_values))\n",
    "    return policy"
   ]
  },
  {
   "cell_type": "code",
   "execution_count": 154,
   "id": "b8829551",
   "metadata": {},
   "outputs": [
    {
     "data": {
      "text/plain": [
       "array([0., 3., 3., 3., 0., 0., 0., 0., 3., 1., 0., 0., 0., 2., 1., 0.])"
      ]
     },
     "execution_count": 154,
     "metadata": {},
     "output_type": "execute_result"
    }
   ],
   "source": [
    "optimal_policy = get_optimal_policy(value_table)\n",
    "optimal_policy"
   ]
  }
 ],
 "metadata": {
  "kernelspec": {
   "display_name": "Python 3 (ipykernel)",
   "language": "python",
   "name": "python3"
  },
  "language_info": {
   "codemirror_mode": {
    "name": "ipython",
    "version": 3
   },
   "file_extension": ".py",
   "mimetype": "text/x-python",
   "name": "python",
   "nbconvert_exporter": "python",
   "pygments_lexer": "ipython3",
   "version": "3.8.10"
  }
 },
 "nbformat": 4,
 "nbformat_minor": 5
}
